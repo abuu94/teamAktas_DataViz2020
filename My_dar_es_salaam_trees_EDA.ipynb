{
 "cells": [
  {
   "cell_type": "markdown",
   "metadata": {},
   "source": [
    "                                     DATA VISUALIZATION CHALLENGE 2020 \n",
    "                   THEME:  VISUALIZATION OF URBAN TREE DISTRIBUTIONS AND ITS IMPORTANCE FOR URBAN FORESTRY\n",
    "                                            MANAGEMENT.\n",
    "                             TEAM NAME:      teamAktas\n",
    "                         DATASET:            The Pilot Tree mapping data in Dar es Salaam   (CRD)\n",
    "                         UNIVERISTY:         State University of Zanzibar\n",
    "                                             BENEFICIARIES:\n",
    "                                    1. Urban forestry management\n",
    "                                    2. Municipalities or Shehias\n",
    "                                    3. City Council"
   ]
  },
  {
   "cell_type": "markdown",
   "metadata": {},
   "source": [
    "Libraries Importation: To exploring the dataset"
   ]
  },
  {
   "cell_type": "code",
   "execution_count": 36,
   "metadata": {},
   "outputs": [],
   "source": [
    "import pandas as pd"
   ]
  },
  {
   "cell_type": "code",
   "execution_count": 37,
   "metadata": {},
   "outputs": [
    {
     "data": {
      "text/plain": [
       "(556, 17)"
      ]
     },
     "execution_count": 37,
     "metadata": {},
     "output_type": "execute_result"
    }
   ],
   "source": [
    "df=pd.read_csv(\"my_dar_es_salaam_trees.csv\")\n",
    "df.shape"
   ]
  },
  {
   "cell_type": "code",
   "execution_count": 38,
   "metadata": {},
   "outputs": [
    {
     "data": {
      "text/html": [
       "<div>\n",
       "<style scoped>\n",
       "    .dataframe tbody tr th:only-of-type {\n",
       "        vertical-align: middle;\n",
       "    }\n",
       "\n",
       "    .dataframe tbody tr th {\n",
       "        vertical-align: top;\n",
       "    }\n",
       "\n",
       "    .dataframe thead th {\n",
       "        text-align: right;\n",
       "    }\n",
       "</style>\n",
       "<table border=\"1\" class=\"dataframe\">\n",
       "  <thead>\n",
       "    <tr style=\"text-align: right;\">\n",
       "      <th></th>\n",
       "      <th>Unnamed: 0</th>\n",
       "      <th>FID</th>\n",
       "      <th>the_geom</th>\n",
       "      <th>ID_order</th>\n",
       "      <th>Y_coordina</th>\n",
       "      <th>X_coordina</th>\n",
       "      <th>tree_speci</th>\n",
       "      <th>tree_healt</th>\n",
       "      <th>threat</th>\n",
       "      <th>threat_ele</th>\n",
       "      <th>threat_roa</th>\n",
       "      <th>threat_bui</th>\n",
       "      <th>threat_wat</th>\n",
       "      <th>threat_peo</th>\n",
       "      <th>tree_site</th>\n",
       "      <th>tree_base</th>\n",
       "      <th>small_big</th>\n",
       "    </tr>\n",
       "  </thead>\n",
       "  <tbody>\n",
       "    <tr>\n",
       "      <th>0</th>\n",
       "      <td>0</td>\n",
       "      <td>dar_es_salaam_trees.1</td>\n",
       "      <td>POINT (39.26112167 -6.773895)</td>\n",
       "      <td>1</td>\n",
       "      <td>-6.773895</td>\n",
       "      <td>39.261122</td>\n",
       "      <td>ashok</td>\n",
       "      <td>healthy</td>\n",
       "      <td>building/structures</td>\n",
       "      <td>0.0</td>\n",
       "      <td>0.0</td>\n",
       "      <td>1.0</td>\n",
       "      <td>0.0</td>\n",
       "      <td>0.0</td>\n",
       "      <td>private</td>\n",
       "      <td>adjacent to a hard surface</td>\n",
       "      <td>small</td>\n",
       "    </tr>\n",
       "    <tr>\n",
       "      <th>1</th>\n",
       "      <td>1</td>\n",
       "      <td>dar_es_salaam_trees.2</td>\n",
       "      <td>POINT (39.25849833 -6.77576)</td>\n",
       "      <td>2</td>\n",
       "      <td>-6.775760</td>\n",
       "      <td>39.258498</td>\n",
       "      <td>other</td>\n",
       "      <td>healthy</td>\n",
       "      <td>building/structures</td>\n",
       "      <td>0.0</td>\n",
       "      <td>0.0</td>\n",
       "      <td>1.0</td>\n",
       "      <td>0.0</td>\n",
       "      <td>0.0</td>\n",
       "      <td>private</td>\n",
       "      <td>restricted/incased</td>\n",
       "      <td>small</td>\n",
       "    </tr>\n",
       "    <tr>\n",
       "      <th>2</th>\n",
       "      <td>2</td>\n",
       "      <td>dar_es_salaam_trees.3</td>\n",
       "      <td>POINT (39.258475 -6.775701667)</td>\n",
       "      <td>3</td>\n",
       "      <td>-6.775702</td>\n",
       "      <td>39.258475</td>\n",
       "      <td>other</td>\n",
       "      <td>healthy</td>\n",
       "      <td>building/structures</td>\n",
       "      <td>0.0</td>\n",
       "      <td>0.0</td>\n",
       "      <td>1.0</td>\n",
       "      <td>0.0</td>\n",
       "      <td>0.0</td>\n",
       "      <td>private</td>\n",
       "      <td>restricted/incased</td>\n",
       "      <td>small</td>\n",
       "    </tr>\n",
       "    <tr>\n",
       "      <th>3</th>\n",
       "      <td>3</td>\n",
       "      <td>dar_es_salaam_trees.4</td>\n",
       "      <td>POINT (39.25837667 -6.775561667)</td>\n",
       "      <td>4</td>\n",
       "      <td>-6.775562</td>\n",
       "      <td>39.258377</td>\n",
       "      <td>other</td>\n",
       "      <td>healthy</td>\n",
       "      <td>building/structures</td>\n",
       "      <td>0.0</td>\n",
       "      <td>0.0</td>\n",
       "      <td>1.0</td>\n",
       "      <td>0.0</td>\n",
       "      <td>0.0</td>\n",
       "      <td>private</td>\n",
       "      <td>restricted/incased</td>\n",
       "      <td>small</td>\n",
       "    </tr>\n",
       "    <tr>\n",
       "      <th>4</th>\n",
       "      <td>4</td>\n",
       "      <td>dar_es_salaam_trees.5</td>\n",
       "      <td>POINT (39.258525 -6.77564)</td>\n",
       "      <td>5</td>\n",
       "      <td>-6.775640</td>\n",
       "      <td>39.258525</td>\n",
       "      <td>other</td>\n",
       "      <td>healthy</td>\n",
       "      <td>building/structures</td>\n",
       "      <td>0.0</td>\n",
       "      <td>0.0</td>\n",
       "      <td>1.0</td>\n",
       "      <td>0.0</td>\n",
       "      <td>0.0</td>\n",
       "      <td>private</td>\n",
       "      <td>restricted/incased</td>\n",
       "      <td>small</td>\n",
       "    </tr>\n",
       "    <tr>\n",
       "      <th>...</th>\n",
       "      <td>...</td>\n",
       "      <td>...</td>\n",
       "      <td>...</td>\n",
       "      <td>...</td>\n",
       "      <td>...</td>\n",
       "      <td>...</td>\n",
       "      <td>...</td>\n",
       "      <td>...</td>\n",
       "      <td>...</td>\n",
       "      <td>...</td>\n",
       "      <td>...</td>\n",
       "      <td>...</td>\n",
       "      <td>...</td>\n",
       "      <td>...</td>\n",
       "      <td>...</td>\n",
       "      <td>...</td>\n",
       "      <td>...</td>\n",
       "    </tr>\n",
       "    <tr>\n",
       "      <th>551</th>\n",
       "      <td>551</td>\n",
       "      <td>dar_es_salaam_trees.552</td>\n",
       "      <td>POINT (39.258445 -6.776061667)</td>\n",
       "      <td>552</td>\n",
       "      <td>-6.776062</td>\n",
       "      <td>39.258445</td>\n",
       "      <td>neem</td>\n",
       "      <td>healthy</td>\n",
       "      <td>building/structures electricity/wires</td>\n",
       "      <td>1.0</td>\n",
       "      <td>0.0</td>\n",
       "      <td>1.0</td>\n",
       "      <td>0.0</td>\n",
       "      <td>0.0</td>\n",
       "      <td>NaN</td>\n",
       "      <td>NaN</td>\n",
       "      <td>big</td>\n",
       "    </tr>\n",
       "    <tr>\n",
       "      <th>552</th>\n",
       "      <td>552</td>\n",
       "      <td>dar_es_salaam_trees.553</td>\n",
       "      <td>POINT (39.25954667 -6.773173333)</td>\n",
       "      <td>553</td>\n",
       "      <td>-6.773173</td>\n",
       "      <td>39.259547</td>\n",
       "      <td>neem</td>\n",
       "      <td>healthy</td>\n",
       "      <td>building/structures</td>\n",
       "      <td>0.0</td>\n",
       "      <td>0.0</td>\n",
       "      <td>1.0</td>\n",
       "      <td>0.0</td>\n",
       "      <td>0.0</td>\n",
       "      <td>public_property</td>\n",
       "      <td>restricted/incased</td>\n",
       "      <td>big</td>\n",
       "    </tr>\n",
       "    <tr>\n",
       "      <th>553</th>\n",
       "      <td>553</td>\n",
       "      <td>dar_es_salaam_trees.554</td>\n",
       "      <td>POINT (39.25300375 -6.77595939)</td>\n",
       "      <td>554</td>\n",
       "      <td>-6.775959</td>\n",
       "      <td>39.253004</td>\n",
       "      <td>palm</td>\n",
       "      <td>healthy</td>\n",
       "      <td>NaN</td>\n",
       "      <td>0.0</td>\n",
       "      <td>0.0</td>\n",
       "      <td>0.0</td>\n",
       "      <td>0.0</td>\n",
       "      <td>0.0</td>\n",
       "      <td>private_property</td>\n",
       "      <td>restricted/incased</td>\n",
       "      <td>big</td>\n",
       "    </tr>\n",
       "    <tr>\n",
       "      <th>554</th>\n",
       "      <td>554</td>\n",
       "      <td>dar_es_salaam_trees.555</td>\n",
       "      <td>POINT (39.25571009 -6.77274866)</td>\n",
       "      <td>555</td>\n",
       "      <td>-6.772749</td>\n",
       "      <td>39.255710</td>\n",
       "      <td>palm</td>\n",
       "      <td>severely_damaged / sick</td>\n",
       "      <td>NaN</td>\n",
       "      <td>0.0</td>\n",
       "      <td>0.0</td>\n",
       "      <td>0.0</td>\n",
       "      <td>0.0</td>\n",
       "      <td>0.0</td>\n",
       "      <td>private_property</td>\n",
       "      <td>Open soil</td>\n",
       "      <td>big</td>\n",
       "    </tr>\n",
       "    <tr>\n",
       "      <th>555</th>\n",
       "      <td>555</td>\n",
       "      <td>dar_es_salaam_trees.556</td>\n",
       "      <td>POINT (39.25380799 -6.77459324)</td>\n",
       "      <td>556</td>\n",
       "      <td>-6.774593</td>\n",
       "      <td>39.253808</td>\n",
       "      <td>other</td>\n",
       "      <td>healthy</td>\n",
       "      <td>NaN</td>\n",
       "      <td>0.0</td>\n",
       "      <td>0.0</td>\n",
       "      <td>0.0</td>\n",
       "      <td>0.0</td>\n",
       "      <td>0.0</td>\n",
       "      <td>public_property</td>\n",
       "      <td>Open soil</td>\n",
       "      <td>big</td>\n",
       "    </tr>\n",
       "  </tbody>\n",
       "</table>\n",
       "<p>556 rows × 17 columns</p>\n",
       "</div>"
      ],
      "text/plain": [
       "     Unnamed: 0                      FID                          the_geom  \\\n",
       "0             0    dar_es_salaam_trees.1     POINT (39.26112167 -6.773895)   \n",
       "1             1    dar_es_salaam_trees.2      POINT (39.25849833 -6.77576)   \n",
       "2             2    dar_es_salaam_trees.3    POINT (39.258475 -6.775701667)   \n",
       "3             3    dar_es_salaam_trees.4  POINT (39.25837667 -6.775561667)   \n",
       "4             4    dar_es_salaam_trees.5        POINT (39.258525 -6.77564)   \n",
       "..          ...                      ...                               ...   \n",
       "551         551  dar_es_salaam_trees.552    POINT (39.258445 -6.776061667)   \n",
       "552         552  dar_es_salaam_trees.553  POINT (39.25954667 -6.773173333)   \n",
       "553         553  dar_es_salaam_trees.554   POINT (39.25300375 -6.77595939)   \n",
       "554         554  dar_es_salaam_trees.555   POINT (39.25571009 -6.77274866)   \n",
       "555         555  dar_es_salaam_trees.556   POINT (39.25380799 -6.77459324)   \n",
       "\n",
       "     ID_order  Y_coordina  X_coordina tree_speci               tree_healt  \\\n",
       "0           1   -6.773895   39.261122      ashok                  healthy   \n",
       "1           2   -6.775760   39.258498      other                  healthy   \n",
       "2           3   -6.775702   39.258475      other                  healthy   \n",
       "3           4   -6.775562   39.258377      other                  healthy   \n",
       "4           5   -6.775640   39.258525      other                  healthy   \n",
       "..        ...         ...         ...        ...                      ...   \n",
       "551       552   -6.776062   39.258445       neem                  healthy   \n",
       "552       553   -6.773173   39.259547       neem                  healthy   \n",
       "553       554   -6.775959   39.253004       palm                  healthy   \n",
       "554       555   -6.772749   39.255710       palm  severely_damaged / sick   \n",
       "555       556   -6.774593   39.253808      other                  healthy   \n",
       "\n",
       "                                    threat  threat_ele  threat_roa  \\\n",
       "0                      building/structures         0.0         0.0   \n",
       "1                      building/structures         0.0         0.0   \n",
       "2                      building/structures         0.0         0.0   \n",
       "3                      building/structures         0.0         0.0   \n",
       "4                      building/structures         0.0         0.0   \n",
       "..                                     ...         ...         ...   \n",
       "551  building/structures electricity/wires         1.0         0.0   \n",
       "552                    building/structures         0.0         0.0   \n",
       "553                                    NaN         0.0         0.0   \n",
       "554                                    NaN         0.0         0.0   \n",
       "555                                    NaN         0.0         0.0   \n",
       "\n",
       "     threat_bui  threat_wat  threat_peo         tree_site  \\\n",
       "0           1.0         0.0         0.0           private   \n",
       "1           1.0         0.0         0.0           private   \n",
       "2           1.0         0.0         0.0           private   \n",
       "3           1.0         0.0         0.0           private   \n",
       "4           1.0         0.0         0.0           private   \n",
       "..          ...         ...         ...               ...   \n",
       "551         1.0         0.0         0.0               NaN   \n",
       "552         1.0         0.0         0.0   public_property   \n",
       "553         0.0         0.0         0.0  private_property   \n",
       "554         0.0         0.0         0.0  private_property   \n",
       "555         0.0         0.0         0.0   public_property   \n",
       "\n",
       "                      tree_base small_big  \n",
       "0    adjacent to a hard surface     small  \n",
       "1            restricted/incased     small  \n",
       "2            restricted/incased     small  \n",
       "3            restricted/incased     small  \n",
       "4            restricted/incased     small  \n",
       "..                          ...       ...  \n",
       "551                         NaN       big  \n",
       "552          restricted/incased       big  \n",
       "553          restricted/incased       big  \n",
       "554                   Open soil       big  \n",
       "555                   Open soil       big  \n",
       "\n",
       "[556 rows x 17 columns]"
      ]
     },
     "execution_count": 38,
     "metadata": {},
     "output_type": "execute_result"
    }
   ],
   "source": [
    "df"
   ]
  },
  {
   "cell_type": "markdown",
   "metadata": {},
   "source": [
    "Libraries Importation for Visualising the Dataset.\n",
    "\n",
    "Here we visualise the interest data from the dataset that are;\n",
    "1. Visualising trees based on small_big attribute.\n",
    "2. Visualising trees based on tree_speci attribute.\n",
    "3. Visualising trees based on tree_healt attribute.  \n",
    "4. Visualising trees based on threat attribute.\n",
    "5. Visualising trees based on tree_site attribute. \n",
    "6. Visualising trees based on tree_base attribute."
   ]
  },
  {
   "cell_type": "code",
   "execution_count": 39,
   "metadata": {},
   "outputs": [],
   "source": [
    "import numpy as py,pandas as pd,matplotlib.pyplot as  plt,seaborn as sns"
   ]
  },
  {
   "cell_type": "code",
   "execution_count": 40,
   "metadata": {},
   "outputs": [
    {
     "data": {
      "text/plain": [
       "<AxesSubplot:xlabel='small_big', ylabel='count'>"
      ]
     },
     "execution_count": 40,
     "metadata": {},
     "output_type": "execute_result"
    },
    {
     "data": {
      "image/png": "[encoded data removed]",
      "text/plain": [
       "<Figure size 432x288 with 1 Axes>"
      ]
     },
     "metadata": {
      "needs_background": "light"
     },
     "output_type": "display_data"
    }
   ],
   "source": [
    "# \n",
    "#\n",
    "#Draw Bar Graph to  X=Marks Score, Y=Number of Records;\n",
    "sns.countplot(x = \"small_big\", data = df)"
   ]
  },
  {
   "cell_type": "code",
   "execution_count": 41,
   "metadata": {},
   "outputs": [
    {
     "data": {
      "text/plain": [
       "big      410\n",
       "small    146\n",
       "Name: small_big, dtype: int64"
      ]
     },
     "execution_count": 41,
     "metadata": {},
     "output_type": "execute_result"
    }
   ],
   "source": [
    "#Count tree  based on threat based group:To identify threat most tree;\n",
    "df.small_big.value_counts()"
   ]
  },
  {
   "cell_type": "code",
   "execution_count": 42,
   "metadata": {},
   "outputs": [
    {
     "data": {
      "text/plain": [
       "<AxesSubplot:xlabel='tree_speci', ylabel='count'>"
      ]
     },
     "execution_count": 42,
     "metadata": {},
     "output_type": "execute_result"
    },
    {
     "data": {
      "image/png": "[encoded data removed]",
      "text/plain": [
       "<Figure size 432x288 with 1 Axes>"
      ]
     },
     "metadata": {
      "needs_background": "light"
     },
     "output_type": "display_data"
    }
   ],
   "source": [
    "#Draw Bar Graph to  X=Marks Score, Y=Number of Records;\n",
    "sns.countplot(x = \"tree_speci\", data = df)"
   ]
  },
  {
   "cell_type": "code",
   "execution_count": 43,
   "metadata": {},
   "outputs": [
    {
     "data": {
      "text/plain": [
       "other         286\n",
       "palm          119\n",
       "ashok          92\n",
       "neem           34\n",
       "acacia         13\n",
       "mango           5\n",
       "flamboyant      5\n",
       "avocado         2\n",
       "Name: tree_speci, dtype: int64"
      ]
     },
     "execution_count": 43,
     "metadata": {},
     "output_type": "execute_result"
    }
   ],
   "source": [
    "#Count tree  based on threat based group:To identify threat most tree;\n",
    "df.tree_speci.value_counts()"
   ]
  },
  {
   "cell_type": "code",
   "execution_count": 44,
   "metadata": {},
   "outputs": [
    {
     "data": {
      "text/plain": [
       "<AxesSubplot:xlabel='tree_healt', ylabel='count'>"
      ]
     },
     "execution_count": 44,
     "metadata": {},
     "output_type": "execute_result"
    },
    {
     "data": {
      "image/png": "[encoded data removed]",
      "text/plain": [
       "<Figure size 432x288 with 1 Axes>"
      ]
     },
     "metadata": {
      "needs_background": "light"
     },
     "output_type": "display_data"
    }
   ],
   "source": [
    "#Draw Bar Graph to  X=Marks Score, Y=Number of Records;\n",
    "sns.countplot(x = \"tree_healt\", data = df)"
   ]
  },
  {
   "cell_type": "code",
   "execution_count": 45,
   "metadata": {},
   "outputs": [
    {
     "data": {
      "text/plain": [
       "healthy                    531\n",
       "slightly_damaged / sick     14\n",
       "severely_damaged / sick      5\n",
       "dead                         3\n",
       "Name: tree_healt, dtype: int64"
      ]
     },
     "execution_count": 45,
     "metadata": {},
     "output_type": "execute_result"
    }
   ],
   "source": [
    "#Count tree  based on threat based group:To identify threat most tree;\n",
    "df.tree_healt.value_counts()"
   ]
  },
  {
   "cell_type": "code",
   "execution_count": 46,
   "metadata": {},
   "outputs": [
    {
     "data": {
      "text/plain": [
       "<AxesSubplot:xlabel='threat', ylabel='count'>"
      ]
     },
     "execution_count": 46,
     "metadata": {},
     "output_type": "execute_result"
    },
    {
     "data": {
      "image/png": "[encoded data removed]",
      "text/plain": [
       "<Figure size 432x288 with 1 Axes>"
      ]
     },
     "metadata": {
      "needs_background": "light"
     },
     "output_type": "display_data"
    }
   ],
   "source": [
    "#Draw Bar Graph to  X=Marks Score, Y=Number of Records;\n",
    "sns.countplot(x = \"threat\", data = df)"
   ]
  },
  {
   "cell_type": "code",
   "execution_count": 47,
   "metadata": {},
   "outputs": [
    {
     "data": {
      "text/plain": [
       "electricity/wires                                                 86\n",
       "building/structures                                               77\n",
       "electricity/wires building/structures                             39\n",
       "road                                                              16\n",
       "building/structures water/sewage                                  13\n",
       "building/structures electricity/wires                             12\n",
       "people                                                            12\n",
       "building/structures road                                          10\n",
       "road building/structures                                           6\n",
       "electricity/wires water/sewage                                     5\n",
       "electricity/wires road building/structures                         5\n",
       "electricity/wires building/structures road                         5\n",
       "water/sewage                                                       5\n",
       "building/structures people                                         4\n",
       "electricity/wires road                                             4\n",
       "water/sewage building/structures                                   4\n",
       "road electricity/wires                                             3\n",
       "electricity/wires road building/structures people                  3\n",
       "road electricity/wires building/structures                         2\n",
       "people building/structures                                         2\n",
       "water/sewage road                                                  2\n",
       "road water/sewage                                                  2\n",
       "electricity/wires road building/structures water/sewage            2\n",
       "electricity/wires water/sewage building/structures                 2\n",
       "electricity/wires road water/sewage                                2\n",
       "electricity/wires building/structures water/sewage                 2\n",
       "road building/structures water/sewage                              2\n",
       "electricity/wires road people building/structures                  1\n",
       "electricity/wires road water/sewage people                         1\n",
       "electricity/wires building/structures people                       1\n",
       "building/structures electricity/wires water/sewage road            1\n",
       "water/sewage road building/structures                              1\n",
       "electricity/wires road water/sewage building/structures            1\n",
       "building/structures road electricity/wires water/sewage people     1\n",
       "building/structures road water/sewage electricity/wires            1\n",
       "building/structures road electricity/wires                         1\n",
       "building/structures electricity/wires road                         1\n",
       "building/structures water/sewage road                              1\n",
       "electricity/wires water/sewage road                                1\n",
       "electricity/wires building/structures water/sewage people          1\n",
       "road people                                                        1\n",
       "people electricity/wires                                           1\n",
       "water/sewage building/structures road electricity/wires            1\n",
       "people building/structures road                                    1\n",
       "road building/structures people electricity/wires                  1\n",
       "electricity/wires other                                            1\n",
       "people building/structures other                                   1\n",
       "electricity/wires road building/structures water/sewage people     1\n",
       "Name: threat, dtype: int64"
      ]
     },
     "execution_count": 47,
     "metadata": {},
     "output_type": "execute_result"
    }
   ],
   "source": [
    "#Count tree  based on threat based group:To identify threat most tree;\n",
    "df.threat.value_counts()"
   ]
  },
  {
   "cell_type": "code",
   "execution_count": 48,
   "metadata": {},
   "outputs": [
    {
     "data": {
      "text/plain": [
       "<AxesSubplot:xlabel='tree_site', ylabel='count'>"
      ]
     },
     "execution_count": 48,
     "metadata": {},
     "output_type": "execute_result"
    },
    {
     "data": {
      "image/png": "[encoded data removed]",
      "text/plain": [
       "<Figure size 432x288 with 1 Axes>"
      ]
     },
     "metadata": {
      "needs_background": "light"
     },
     "output_type": "display_data"
    }
   ],
   "source": [
    "#Draw Bar Graph to  X=Marks Score, Y=Number of Records;\n",
    "sns.countplot(x = \"tree_site\", data = df)"
   ]
  },
  {
   "cell_type": "code",
   "execution_count": 49,
   "metadata": {},
   "outputs": [
    {
     "data": {
      "text/plain": [
       "public_property     246\n",
       "private_property    146\n",
       "public               89\n",
       "private              54\n",
       "Name: tree_site, dtype: int64"
      ]
     },
     "execution_count": 49,
     "metadata": {},
     "output_type": "execute_result"
    }
   ],
   "source": [
    "#Count tree  based on threat based group:To identify threat most tree;\n",
    "df.tree_site.value_counts()"
   ]
  },
  {
   "cell_type": "code",
   "execution_count": 50,
   "metadata": {},
   "outputs": [
    {
     "data": {
      "text/plain": [
       "<AxesSubplot:xlabel='tree_base', ylabel='count'>"
      ]
     },
     "execution_count": 50,
     "metadata": {},
     "output_type": "execute_result"
    },
    {
     "data": {
      "image/png": "[encoded data removed]",
      "text/plain": [
       "<Figure size 432x288 with 1 Axes>"
      ]
     },
     "metadata": {
      "needs_background": "light"
     },
     "output_type": "display_data"
    }
   ],
   "source": [
    "#Draw Bar Graph to  X=Marks Score, Y=Number of Records;\n",
    "sns.countplot(x = \"tree_base\", data = df)"
   ]
  },
  {
   "cell_type": "code",
   "execution_count": 51,
   "metadata": {},
   "outputs": [
    {
     "data": {
      "text/plain": [
       "Open soil                     417\n",
       "restricted/incased             95\n",
       "adjacent to a hard surface     31\n",
       "Name: tree_base, dtype: int64"
      ]
     },
     "execution_count": 51,
     "metadata": {},
     "output_type": "execute_result"
    }
   ],
   "source": [
    "#Count tree  based on threat based group:To identify threat most tree;\n",
    "df.tree_base.value_counts()"
   ]
  },
  {
   "cell_type": "markdown",
   "metadata": {},
   "source": [
    "Untill here we have learnt our dataset and visualise important information that will be visualised on a map.\n",
    "Also from these infromation we will provide bussiness intelligent to our Stake Holders\n",
    "\n",
    "### ..."
   ]
  },
  {
   "cell_type": "code",
   "execution_count": null,
   "metadata": {},
   "outputs": [],
   "source": []
  }
 ],
 "metadata": {
  "kernelspec": {
   "display_name": "Python 3",
   "language": "python",
   "name": "python3"
  },
  "language_info": {
   "codemirror_mode": {
    "name": "ipython",
    "version": 3
   },
   "file_extension": ".py",
   "mimetype": "text/x-python",
   "name": "python",
   "nbconvert_exporter": "python",
   "pygments_lexer": "ipython3",
   "version": "3.7.6"
  }
 },
 "nbformat": 4,
 "nbformat_minor": 4
}
